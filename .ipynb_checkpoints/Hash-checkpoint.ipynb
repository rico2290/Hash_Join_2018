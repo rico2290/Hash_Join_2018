{
 "cells": [
  {
   "cell_type": "code",
   "execution_count": 2,
   "metadata": {},
   "outputs": [],
   "source": [
    "import pandas as pd\n",
    "import numpy as np\n",
    "import csv"
   ]
  },
  {
   "cell_type": "code",
   "execution_count": null,
   "metadata": {},
   "outputs": [],
   "source": [
    "with open('customer.tbl') as file:\n",
    "    tabela = pd.read_table(file, sep='|', index_col=0, header=None, lineterminator='\\n', names=['id','name','address',\n",
    "                                                                                                'nationkey','phone','acctbal','mktsegment','comment'])\n",
    "\n",
    " "
   ]
  },
  {
   "cell_type": "code",
   "execution_count": null,
   "metadata": {},
   "outputs": [],
   "source": [
    "saida = open('result.csv','w')"
   ]
  },
  {
   "cell_type": "code",
   "execution_count": null,
   "metadata": {},
   "outputs": [],
   "source": [
    "tabela.to_csv(saida,index=None)"
   ]
  },
  {
   "cell_type": "code",
   "execution_count": 5,
   "metadata": {},
   "outputs": [
    {
     "name": "stdout",
     "output_type": "stream",
     "text": [
      "00001\n",
      "00010\n",
      "00011\n",
      "00100\n",
      "00101\n",
      "00110\n",
      "00111\n",
      "01000\n",
      "01001\n",
      "01010\n",
      "01011\n",
      "01100\n",
      "01101\n",
      "01110\n",
      "01111\n",
      "10000\n",
      "10001\n",
      "10010\n",
      "10011\n",
      "10100\n",
      "10101\n"
     ]
    }
   ],
   "source": [
    "x = 20\n",
    "cont = 0\n",
    "with open('result.csv') as csvfile:\n",
    "    global pegaId       \n",
    "    read = csv.reader(csvfile)\n",
    "    for row in read:\n",
    "        if cont <= x:\n",
    "            if row[0] == 'id': continue\n",
    "            pageId = row[0]\n",
    "            \n",
    "            cont = cont +1\n",
    "            pageId = (\"{0:b}\".format(int(pageId[12:])))\n",
    "            #print(type(pageId))\n",
    "            #caso o tamanho do ID for menor que o exigido\n",
    "            if len(pageId) <= 5:\n",
    "                a = 5-len(pageId)\n",
    "                a ='{:0>5}'.format(pageId)\n",
    "                print(a)\n",
    "                \n",
    "            \n",
    "           \n",
    "\n"
   ]
  },
  {
   "cell_type": "code",
   "execution_count": null,
   "metadata": {},
   "outputs": [],
   "source": [
    "\n",
    "    "
   ]
  },
  {
   "cell_type": "code",
   "execution_count": null,
   "metadata": {},
   "outputs": [],
   "source": []
  },
  {
   "cell_type": "code",
   "execution_count": null,
   "metadata": {},
   "outputs": [],
   "source": []
  },
  {
   "cell_type": "code",
   "execution_count": null,
   "metadata": {},
   "outputs": [],
   "source": []
  }
 ],
 "metadata": {
  "kernelspec": {
   "display_name": "Python 3",
   "language": "python",
   "name": "python3"
  },
  "language_info": {
   "codemirror_mode": {
    "name": "ipython",
    "version": 3
   },
   "file_extension": ".py",
   "mimetype": "text/x-python",
   "name": "python",
   "nbconvert_exporter": "python",
   "pygments_lexer": "ipython3",
   "version": "3.6.5"
  }
 },
 "nbformat": 4,
 "nbformat_minor": 2
}
